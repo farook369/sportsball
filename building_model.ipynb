{
  "nbformat": 4,
  "nbformat_minor": 0,
  "metadata": {
    "colab": {
      "provenance": [],
      "gpuType": "T4"
    },
    "kernelspec": {
      "name": "python3",
      "display_name": "Python 3"
    },
    "language_info": {
      "name": "python"
    },
    "accelerator": "GPU"
  },
  "cells": [
    {
      "cell_type": "markdown",
      "source": [
        "**Sports ball prediction**"
      ],
      "metadata": {
        "id": "dyr13A1QjRr4"
      }
    },
    {
      "cell_type": "markdown",
      "source": [
        "In this project, we're building a CNN model that can predict  a sports ball type,Her we train our model with images of different sports ball"
      ],
      "metadata": {
        "id": "E3CetkGnlOVP"
      }
    },
    {
      "cell_type": "markdown",
      "source": [
        "***Dstaset***\n",
        "\n",
        " Dataset contain images of sports balls from 5 different sports. These are: basketball, cricket ball, football, tennis ball and volleyball.\n",
        " Dataset link : https://www.kaggle.com/datasets/samuelcortinhas/sports-balls-multiclass-image-classification"
      ],
      "metadata": {
        "id": "vGQxbP_Pl6pg"
      }
    },
    {
      "cell_type": "code",
      "source": [],
      "metadata": {
        "id": "rzlJgpTXkdUQ"
      },
      "execution_count": null,
      "outputs": []
    },
    {
      "cell_type": "markdown",
      "source": [
        "Importing modules"
      ],
      "metadata": {
        "id": "dFOCauEWjz6N"
      }
    },
    {
      "cell_type": "code",
      "source": [
        "import os\n",
        "from skimage.io import imread\n",
        "from skimage.transform import resize\n",
        "from keras.models import Sequential\n",
        "from keras.layers import Conv2D,MaxPool2D,Flatten,Dense\n",
        "import numpy as np"
      ],
      "metadata": {
        "id": "He2UdRQQ7h-_"
      },
      "execution_count": null,
      "outputs": []
    },
    {
      "cell_type": "code",
      "source": [
        "os.listdir('/content/drive/MyDrive/Sports balls test')"
      ],
      "metadata": {
        "colab": {
          "base_uri": "https://localhost:8080/"
        },
        "id": "OnGvNOqy7key",
        "outputId": "54015a11-f697-4ed1-893a-a5ee2c0619ca"
      },
      "execution_count": null,
      "outputs": [
        {
          "output_type": "execute_result",
          "data": {
            "text/plain": [
              "['volleyball', 'tennis_ball', 'football', 'cricket_ball', 'basketball']"
            ]
          },
          "metadata": {},
          "execution_count": 2
        }
      ]
    },
    {
      "cell_type": "code",
      "source": [
        "os.listdir('/content/drive/MyDrive/Sports balls train')"
      ],
      "metadata": {
        "colab": {
          "base_uri": "https://localhost:8080/"
        },
        "id": "wlo0xfy780-K",
        "outputId": "60154f09-fa1c-4d1b-92a4-20dcc5af5400"
      },
      "execution_count": null,
      "outputs": [
        {
          "output_type": "execute_result",
          "data": {
            "text/plain": [
              "['tennis_ball', 'volleyball', 'cricket_ball', 'football', 'basketball']"
            ]
          },
          "metadata": {},
          "execution_count": 3
        }
      ]
    },
    {
      "cell_type": "markdown",
      "source": [
        "Loading train data,"
      ],
      "metadata": {
        "id": "HAxZB57pn0Vp"
      }
    },
    {
      "cell_type": "code",
      "source": [
        "datadir='/content/drive/MyDrive/Sports balls train'\n",
        "X_train=[]\n",
        "y_train=[]\n",
        "categories=['volleyball', 'tennis_ball', 'football', 'cricket_ball', 'basketball']\n",
        "for i in categories:\n",
        "  print(\"Loading...\",i)\n",
        "  sub_path=os.path.join(datadir,i)\n",
        "  images=os.listdir(sub_path)\n",
        "  for img in images:\n",
        "    img_path=os.path.join(sub_path,img)\n",
        "    img_array=imread(img_path)\n",
        "    img_resize=resize(img_array,(123,123,3))\n",
        "    X_train.append(img_resize)\n",
        "    y_train.append(categories.index(i))\n",
        "  print(\"Loaded....\",i)"
      ],
      "metadata": {
        "id": "nX7bUI3mwwYh",
        "colab": {
          "base_uri": "https://localhost:8080/"
        },
        "outputId": "aad1c2e9-5528-45c8-89ce-d5391a602a20"
      },
      "execution_count": null,
      "outputs": [
        {
          "output_type": "stream",
          "name": "stdout",
          "text": [
            "Loading... volleyball\n",
            "Loaded.... volleyball\n",
            "Loading... tennis_ball\n",
            "Loaded.... tennis_ball\n",
            "Loading... football\n",
            "Loaded.... football\n",
            "Loading... cricket_ball\n",
            "Loaded.... cricket_ball\n",
            "Loading... basketball\n",
            "Loaded.... basketball\n"
          ]
        }
      ]
    },
    {
      "cell_type": "markdown",
      "source": [
        "Loading test data"
      ],
      "metadata": {
        "id": "j14DVfnqoKAQ"
      }
    },
    {
      "cell_type": "code",
      "source": [
        "ddir='/content/drive/MyDrive/Sports balls test'\n",
        "X_test=[]\n",
        "y_test=[]\n",
        "catgrs=['volleyball', 'tennis_ball', 'football', 'cricket_ball', 'basketball']\n",
        "for i in catgrs:\n",
        "  print(\"Loading...\",i)\n",
        "  sub_path=os.path.join(ddir,i)\n",
        "  images=os.listdir(sub_path)\n",
        "  for img in images:\n",
        "    img_path=os.path.join(sub_path,img)\n",
        "    img_array=imread(img_path)\n",
        "\n",
        "    img_resize=resize(img_array,(123,123,3))\n",
        "    X_test.append(img_resize)\n",
        "    y_test.append(catgrs.index(i))\n",
        "  print(\"Loaded...\",i)"
      ],
      "metadata": {
        "id": "yNthWHMW958Y",
        "colab": {
          "base_uri": "https://localhost:8080/"
        },
        "outputId": "b9440453-a619-49ec-fcc4-721cf1f8509a"
      },
      "execution_count": null,
      "outputs": [
        {
          "output_type": "stream",
          "name": "stdout",
          "text": [
            "Loading... volleyball\n",
            "Loaded... volleyball\n",
            "Loading... tennis_ball\n",
            "Loaded... tennis_ball\n",
            "Loading... football\n",
            "Loaded... football\n",
            "Loading... cricket_ball\n",
            "Loaded... cricket_ball\n",
            "Loading... basketball\n",
            "Loaded... basketball\n"
          ]
        }
      ]
    },
    {
      "cell_type": "markdown",
      "source": [
        "changing into array format"
      ],
      "metadata": {
        "id": "vuqwGsGnoNMA"
      }
    },
    {
      "cell_type": "code",
      "source": [
        "X_train=np.array(X_train)\n",
        "X_test=np.array(X_test)\n",
        "y_train=np.array(y_train)\n",
        "y_test=np.array(y_test)"
      ],
      "metadata": {
        "id": "vkfI-GdbIVD5"
      },
      "execution_count": null,
      "outputs": []
    },
    {
      "cell_type": "markdown",
      "source": [
        "Model object cration and adding layers"
      ],
      "metadata": {
        "id": "MWxYiICpoY8I"
      }
    },
    {
      "cell_type": "code",
      "source": [
        "model=Sequential()\n",
        "model.add(Conv2D(32,(3,3),input_shape=(123,123,3),activation='relu'))\n",
        "model.add(MaxPool2D(2,2))\n",
        "model.add(Conv2D(32,(3,3),activation='relu'))\n",
        "model.add(MaxPool2D(2,2))\n",
        "model.add(Flatten())\n",
        "model.add(Dense(100,activation='relu'))\n",
        "model.add(Dense(5,activation='softmax'))"
      ],
      "metadata": {
        "id": "EBKSWYrD4qgd"
      },
      "execution_count": null,
      "outputs": []
    },
    {
      "cell_type": "code",
      "source": [
        "model.compile(optimizer='adam',loss='sparse_categorical_crossentropy',metrics=['accuracy'])"
      ],
      "metadata": {
        "id": "pytrWU5IhiPS"
      },
      "execution_count": null,
      "outputs": []
    },
    {
      "cell_type": "markdown",
      "source": [
        "Model creation"
      ],
      "metadata": {
        "id": "8WGTeg2oomG5"
      }
    },
    {
      "cell_type": "code",
      "source": [
        "model.fit(X_train,y_train,epochs=10,batch_size=30)"
      ],
      "metadata": {
        "id": "jq7RQKwRh2nI",
        "colab": {
          "base_uri": "https://localhost:8080/"
        },
        "outputId": "a6a6aa33-1ef4-45a2-aad0-e5082d0e5646"
      },
      "execution_count": null,
      "outputs": [
        {
          "output_type": "stream",
          "name": "stdout",
          "text": [
            "Epoch 1/10\n",
            "83/83 [==============================] - 48s 553ms/step - loss: 1.4740 - accuracy: 0.4491\n",
            "Epoch 2/10\n",
            "83/83 [==============================] - 41s 495ms/step - loss: 1.0366 - accuracy: 0.6149\n",
            "Epoch 3/10\n",
            "83/83 [==============================] - 39s 469ms/step - loss: 0.7995 - accuracy: 0.7142\n",
            "Epoch 4/10\n",
            "83/83 [==============================] - 41s 490ms/step - loss: 0.5850 - accuracy: 0.7933\n",
            "Epoch 5/10\n",
            "83/83 [==============================] - 41s 500ms/step - loss: 0.3667 - accuracy: 0.8865\n",
            "Epoch 6/10\n",
            "83/83 [==============================] - 42s 501ms/step - loss: 0.2265 - accuracy: 0.9347\n",
            "Epoch 7/10\n",
            "83/83 [==============================] - 41s 490ms/step - loss: 0.1304 - accuracy: 0.9623\n",
            "Epoch 8/10\n",
            "83/83 [==============================] - 44s 529ms/step - loss: 0.0678 - accuracy: 0.9858\n",
            "Epoch 9/10\n",
            "83/83 [==============================] - 42s 503ms/step - loss: 0.0446 - accuracy: 0.9878\n",
            "Epoch 10/10\n",
            "83/83 [==============================] - 42s 499ms/step - loss: 0.0263 - accuracy: 0.9947\n"
          ]
        },
        {
          "output_type": "execute_result",
          "data": {
            "text/plain": [
              "<keras.src.callbacks.History at 0x7b85b03ff610>"
            ]
          },
          "metadata": {},
          "execution_count": 10
        }
      ]
    },
    {
      "cell_type": "markdown",
      "source": [
        "EValuating test data"
      ],
      "metadata": {
        "id": "BqJk6q-iotcQ"
      }
    },
    {
      "cell_type": "code",
      "source": [
        "loss,accuracy=model.evaluate(X_test,y_test)\n",
        "print(\"loss :\",loss)\n",
        "print(\"accuracy :\",accuracy)"
      ],
      "metadata": {
        "id": "oUpYxX3iyWCz",
        "colab": {
          "base_uri": "https://localhost:8080/"
        },
        "outputId": "785c9079-5304-4a1f-9683-f2ae8b260357"
      },
      "execution_count": null,
      "outputs": [
        {
          "output_type": "stream",
          "name": "stdout",
          "text": [
            "20/20 [==============================] - 5s 208ms/step - loss: 1.7511 - accuracy: 0.6943\n",
            "loss : 1.751064658164978\n",
            "accuracy : 0.6943089365959167\n"
          ]
        }
      ]
    },
    {
      "cell_type": "code",
      "source": [
        "y_pred=model.predict(X_test)\n",
        "y_pred"
      ],
      "metadata": {
        "id": "_oZVyFeKzEds",
        "colab": {
          "base_uri": "https://localhost:8080/"
        },
        "outputId": "b12d1127-f9a7-45a0-a599-50f03f9a207e"
      },
      "execution_count": null,
      "outputs": [
        {
          "output_type": "stream",
          "name": "stdout",
          "text": [
            "20/20 [==============================] - 2s 119ms/step\n"
          ]
        },
        {
          "output_type": "execute_result",
          "data": {
            "text/plain": [
              "array([[9.6935320e-01, 3.1302057e-03, 2.6787311e-02, 2.8382556e-04,\n",
              "        4.4545211e-04],\n",
              "       [1.1389974e-01, 7.9055864e-01, 3.6054488e-02, 3.5327740e-03,\n",
              "        5.5954341e-02],\n",
              "       [9.9974322e-01, 2.5359495e-10, 2.5079356e-04, 1.8703763e-07,\n",
              "        5.8290343e-06],\n",
              "       ...,\n",
              "       [6.2433195e-01, 1.0869654e-03, 1.0994965e-01, 1.2970510e-02,\n",
              "        2.5166091e-01],\n",
              "       [1.7591365e-04, 1.7946963e-06, 3.3918824e-02, 3.0336712e-04,\n",
              "        9.6560007e-01],\n",
              "       [1.8620838e-05, 3.6198633e-06, 4.0816155e-07, 3.1599239e-02,\n",
              "        9.6837807e-01]], dtype=float32)"
            ]
          },
          "metadata": {},
          "execution_count": 12
        }
      ]
    },
    {
      "cell_type": "code",
      "source": [
        "from sklearn.metrics import classification_report,ConfusionMatrixDisplay\n",
        "\n",
        "print(classification_report(y_test,y_pred.argmax(axis=1)))\n",
        "\n",
        "print(ConfusionMatrixDisplay.from_predictions(y_test,y_pred.argmax(axis=1)))"
      ],
      "metadata": {
        "id": "Rx1j9TCnyV_d",
        "colab": {
          "base_uri": "https://localhost:8080/",
          "height": 695
        },
        "outputId": "05082441-1f06-43a4-e6c7-49c19f999942"
      },
      "execution_count": null,
      "outputs": [
        {
          "output_type": "stream",
          "name": "stdout",
          "text": [
            "              precision    recall  f1-score   support\n",
            "\n",
            "           0       0.81      0.50      0.61       109\n",
            "           1       0.66      0.79      0.72       123\n",
            "           2       0.67      0.75      0.71       151\n",
            "           3       0.73      0.72      0.73       146\n",
            "           4       0.64      0.67      0.66        86\n",
            "\n",
            "    accuracy                           0.69       615\n",
            "   macro avg       0.70      0.69      0.69       615\n",
            "weighted avg       0.70      0.69      0.69       615\n",
            "\n",
            "<sklearn.metrics._plot.confusion_matrix.ConfusionMatrixDisplay object at 0x7b85b0147fa0>\n"
          ]
        },
        {
          "output_type": "display_data",
          "data": {
            "text/plain": [
              "<Figure size 640x480 with 2 Axes>"
            ],
            "image/png": "[encoded data removed]"
          },
          "metadata": {}
        }
      ]
    },
    {
      "cell_type": "code",
      "source": [
        "# model.save('asl_cnn.h5')"
      ],
      "metadata": {
        "id": "Fbx97W43hlFG"
      },
      "execution_count": null,
      "outputs": []
    },
    {
      "cell_type": "markdown",
      "source": [
        "Predicting new image"
      ],
      "metadata": {
        "id": "8Dt4iJhLpPdy"
      }
    },
    {
      "cell_type": "code",
      "source": [
        "def predit(path):\n",
        "  img=imread(path)\n",
        "  rimg=resize(img,(1,123,123,3))\n",
        "  y_new=model.predict(rimg)\n",
        "  i=y_new.argmax()\n",
        "\n",
        "  return categories[i]\n",
        "\n",
        "\n"
      ],
      "metadata": {
        "id": "HSPg0MPoc1fY"
      },
      "execution_count": null,
      "outputs": []
    },
    {
      "cell_type": "code",
      "source": [
        "predit('/content/drive/MyDrive/Sports balls train/tennis_ball/tennis_145.jpg')"
      ],
      "metadata": {
        "id": "GemkRfiNdgjY",
        "colab": {
          "base_uri": "https://localhost:8080/",
          "height": 53
        },
        "outputId": "bc7093f6-9138-40a3-a3d0-5c28abefbe9e"
      },
      "execution_count": null,
      "outputs": [
        {
          "output_type": "stream",
          "name": "stdout",
          "text": [
            "1/1 [==============================] - 0s 85ms/step\n"
          ]
        },
        {
          "output_type": "execute_result",
          "data": {
            "text/plain": [
              "'tennis_ball'"
            ],
            "application/vnd.google.colaboratory.intrinsic+json": {
              "type": "string"
            }
          },
          "metadata": {},
          "execution_count": 36
        }
      ]
    },
    {
      "cell_type": "code",
      "source": [
        "model.save('sbcnn.h5')"
      ],
      "metadata": {
        "colab": {
          "base_uri": "https://localhost:8080/"
        },
        "id": "MXjlZi83xotE",
        "outputId": "848914b7-fa11-4d4f-ce6f-23945e2ee6ee"
      },
      "execution_count": null,
      "outputs": [
        {
          "output_type": "stream",
          "name": "stderr",
          "text": [
            "/usr/local/lib/python3.10/dist-packages/keras/src/engine/training.py:3103: UserWarning: You are saving your model as an HDF5 file via `model.save()`. This file format is considered legacy. We recommend using instead the native Keras format, e.g. `model.save('my_model.keras')`.\n",
            "  saving_api.save_model(\n"
          ]
        }
      ]
    }
  ]
}